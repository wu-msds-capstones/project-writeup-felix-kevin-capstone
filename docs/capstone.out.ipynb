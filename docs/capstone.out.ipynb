{
 "cells": [
  {
   "cell_type": "markdown",
   "metadata": {},
   "source": [
    "# Predictive Models for Preventable Hospitalizations in California\n",
    "\n",
    "Counties\n",
    "\n",
    "A data-driven apporoach to understanding Preventable Hospitalizations in California\n",
    "\n",
    "Felix Huang  \n",
    "Kevin Kiser\n",
    "\n",
    "\\`\\`\\`{include: \\_01_intro.qmd}"
   ],
   "id": "707ddfde-ee84-480b-96c4-a0fa7a0a6ad6"
  }
 ],
 "nbformat": 4,
 "nbformat_minor": 5,
 "metadata": {}
}
