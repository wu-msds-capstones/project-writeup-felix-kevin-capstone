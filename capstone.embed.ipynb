{
 "cells": [
  {
   "cell_type": "markdown",
   "metadata": {},
   "source": [
    "# Predictive Models for Preventable Hospitalizations in California\n",
    "\n",
    "Counties\n",
    "\n",
    "A data-driven apporoach to understanding Preventable Hospitalizations in California\n",
    "\n",
    "Felix Huang  \n",
    "Kevin Kiser\n",
    "\n",
    "\\`\\`\\`{include: \\_01_intro.qmd}"
   ],
   "id": "a49db692-ef9d-4362-bca1-0db4b2c1fa74"
  }
 ],
 "nbformat": 4,
 "nbformat_minor": 5,
 "metadata": {}
}
