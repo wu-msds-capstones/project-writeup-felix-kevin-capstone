{
 "cells": [
  {
   "cell_type": "markdown",
   "metadata": {},
   "source": [
    "# Predictive Models for Preventable Hospitalizations in California\n",
    "\n",
    "Counties\n",
    "\n",
    "A data-driven apporoach to understanding Preventable Hospitalizations in California\n",
    "\n",
    "Felix Huang  \n",
    "Kevin Kiser\n",
    "\n",
    "\\`\\`\\`{include: \\_01_intro.qmd}"
   ],
   "id": "27bb1c3c-0e3e-4406-9ad5-7669e46ebf33"
  }
 ],
 "nbformat": 4,
 "nbformat_minor": 5,
 "metadata": {}
}
