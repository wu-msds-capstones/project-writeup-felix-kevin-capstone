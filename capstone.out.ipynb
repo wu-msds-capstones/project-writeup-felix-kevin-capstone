{
 "cells": [
  {
   "cell_type": "markdown",
   "metadata": {},
   "source": [
    "# Predictive Models for Preventable Hospitalizations in California\n",
    "\n",
    "Counties\n",
    "\n",
    "A data-driven apporoach to understanding Preventable Hospitalizations in California\n",
    "\n",
    "Felix Huang  \n",
    "Kevin Kiser\n",
    "\n",
    "\\`\\`\\`{include: \\_01_intro.qmd}"
   ],
   "id": "313b9f03-a271-48b7-8b1d-3b3b9eac1dcb"
  }
 ],
 "nbformat": 4,
 "nbformat_minor": 5,
 "metadata": {}
}
